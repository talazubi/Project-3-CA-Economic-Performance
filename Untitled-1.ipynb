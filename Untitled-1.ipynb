{
 "cells": [
  {
   "cell_type": "code",
   "execution_count": 16,
   "metadata": {},
   "outputs": [
    {
     "name": "stdout",
     "output_type": "stream",
     "text": [
      "Requirement already satisfied: yfinance in /opt/anaconda3/lib/python3.12/site-packages (0.2.50)\n",
      "Requirement already satisfied: pandas>=1.3.0 in /opt/anaconda3/lib/python3.12/site-packages (from yfinance) (2.2.2)\n",
      "Requirement already satisfied: numpy>=1.16.5 in /opt/anaconda3/lib/python3.12/site-packages (from yfinance) (1.26.4)\n",
      "Requirement already satisfied: requests>=2.31 in /opt/anaconda3/lib/python3.12/site-packages (from yfinance) (2.32.2)\n",
      "Requirement already satisfied: multitasking>=0.0.7 in /opt/anaconda3/lib/python3.12/site-packages (from yfinance) (0.0.11)\n",
      "Requirement already satisfied: lxml>=4.9.1 in /opt/anaconda3/lib/python3.12/site-packages (from yfinance) (5.2.1)\n",
      "Requirement already satisfied: platformdirs>=2.0.0 in /opt/anaconda3/lib/python3.12/site-packages (from yfinance) (3.10.0)\n",
      "Requirement already satisfied: pytz>=2022.5 in /opt/anaconda3/lib/python3.12/site-packages (from yfinance) (2024.1)\n",
      "Requirement already satisfied: frozendict>=2.3.4 in /opt/anaconda3/lib/python3.12/site-packages (from yfinance) (2.4.2)\n",
      "Requirement already satisfied: peewee>=3.16.2 in /opt/anaconda3/lib/python3.12/site-packages (from yfinance) (3.17.8)\n",
      "Requirement already satisfied: beautifulsoup4>=4.11.1 in /opt/anaconda3/lib/python3.12/site-packages (from yfinance) (4.12.3)\n",
      "Requirement already satisfied: html5lib>=1.1 in /opt/anaconda3/lib/python3.12/site-packages (from yfinance) (1.1)\n",
      "Requirement already satisfied: soupsieve>1.2 in /opt/anaconda3/lib/python3.12/site-packages (from beautifulsoup4>=4.11.1->yfinance) (2.5)\n",
      "Requirement already satisfied: six>=1.9 in /opt/anaconda3/lib/python3.12/site-packages (from html5lib>=1.1->yfinance) (1.16.0)\n",
      "Requirement already satisfied: webencodings in /opt/anaconda3/lib/python3.12/site-packages (from html5lib>=1.1->yfinance) (0.5.1)\n",
      "Requirement already satisfied: python-dateutil>=2.8.2 in /opt/anaconda3/lib/python3.12/site-packages (from pandas>=1.3.0->yfinance) (2.9.0.post0)\n",
      "Requirement already satisfied: tzdata>=2022.7 in /opt/anaconda3/lib/python3.12/site-packages (from pandas>=1.3.0->yfinance) (2023.3)\n",
      "Requirement already satisfied: charset-normalizer<4,>=2 in /opt/anaconda3/lib/python3.12/site-packages (from requests>=2.31->yfinance) (2.0.4)\n",
      "Requirement already satisfied: idna<4,>=2.5 in /opt/anaconda3/lib/python3.12/site-packages (from requests>=2.31->yfinance) (3.7)\n",
      "Requirement already satisfied: urllib3<3,>=1.21.1 in /opt/anaconda3/lib/python3.12/site-packages (from requests>=2.31->yfinance) (2.2.2)\n",
      "Requirement already satisfied: certifi>=2017.4.17 in /opt/anaconda3/lib/python3.12/site-packages (from requests>=2.31->yfinance) (2024.8.30)\n",
      "Note: you may need to restart the kernel to use updated packages.\n"
     ]
    }
   ],
   "source": [
    "pip install yfinance"
   ]
  },
  {
   "cell_type": "code",
   "execution_count": 20,
   "metadata": {},
   "outputs": [
    {
     "name": "stderr",
     "output_type": "stream",
     "text": [
      "[*********************100%***********************]  1 of 1 completed"
     ]
    },
    {
     "name": "stdout",
     "output_type": "stream",
     "text": [
      "Quarterly data from 2017 to 2024:\n",
      "Price      Adj Close         Close          High           Low          Open  \\\n",
      "Ticker       ^GSPTSE       ^GSPTSE       ^GSPTSE       ^GSPTSE       ^GSPTSE   \n",
      "0       15543.236468  15543.236468  15592.530103  15491.239645  15545.204737   \n",
      "1       15471.547619  15471.547619  15533.033343  15417.012633  15484.139633   \n",
      "2       15179.953235  15179.953235  15220.996755  15130.304798  15178.427404   \n",
      "3       15980.974137  15980.974137  16016.625819  15948.711237  15979.564500   \n",
      "4       15749.588741  15749.588741  15819.369345  15688.175813  15765.629032   \n",
      "\n",
      "Price         Volume    Quarter  \n",
      "Ticker       ^GSPTSE             \n",
      "0       2.217882e+08 2017-03-31  \n",
      "1       2.147766e+08 2017-06-30  \n",
      "2       1.660779e+08 2017-09-30  \n",
      "3       1.753680e+08 2017-12-31  \n",
      "4       2.162819e+08 2018-03-31  \n",
      "Quarterly TSX data has been successfully saved to 'TSX_quarterly_data_2017_2024.csv'.\n"
     ]
    },
    {
     "name": "stderr",
     "output_type": "stream",
     "text": [
      "\n",
      "/var/folders/kx/16xjkcl54kg7d7_x28nq39s00000gn/T/ipykernel_13587/1218331870.py:14: FutureWarning: 'Q' is deprecated and will be removed in a future version, please use 'QE' instead.\n",
      "  quarterly_data = data.resample('Q').mean()\n"
     ]
    }
   ],
   "source": [
    "import yfinance as yf\n",
    "import pandas as pd\n",
    "\n",
    "# Define the ticker for TSX\n",
    "ticker = \"^GSPTSE\"  # TSX Composite Index ticker\n",
    "\n",
    "# Fetch daily data from 2017 to 2024\n",
    "data = yf.download(ticker, start=\"2017-01-01\", end=\"2024-12-31\")\n",
    "\n",
    "# Ensure the index is in datetime format\n",
    "data.index = pd.to_datetime(data.index)\n",
    "\n",
    "# Resample to quarterly frequency using the mean of daily values\n",
    "quarterly_data = data.resample('Q').mean()\n",
    "\n",
    "# Add a column for the quarter-end dates\n",
    "quarterly_data['Quarter'] = quarterly_data.index\n",
    "\n",
    "# Reset the index for better handling\n",
    "quarterly_data.reset_index(drop=True, inplace=True)\n",
    "\n",
    "# Save the quarterly data to a CSV file\n",
    "quarterly_filename = \"TSX_quarterly_data_2017_2024.csv\"\n",
    "quarterly_data.to_csv(quarterly_filename, index=False)\n",
    "\n",
    "# Display the first few rows\n",
    "print(\"Quarterly data from 2017 to 2024:\")\n",
    "print(quarterly_data.head())\n",
    "\n",
    "print(f\"Quarterly TSX data has been successfully saved to '{quarterly_filename}'.\")"
   ]
  },
  {
   "cell_type": "code",
   "execution_count": 27,
   "metadata": {},
   "outputs": [
    {
     "name": "stderr",
     "output_type": "stream",
     "text": [
      "[*********************100%***********************]  1 of 1 completed"
     ]
    },
    {
     "name": "stdout",
     "output_type": "stream",
     "text": [
      "TSX data has been successfully saved to 'TTEN_data_yfinance.csv'.\n"
     ]
    },
    {
     "name": "stderr",
     "output_type": "stream",
     "text": [
      "\n"
     ]
    },
    {
     "ename": "KeyError",
     "evalue": "'Date'",
     "output_type": "error",
     "traceback": [
      "\u001b[0;31m---------------------------------------------------------------------------\u001b[0m",
      "\u001b[0;31mKeyError\u001b[0m                                  Traceback (most recent call last)",
      "File \u001b[0;32m/opt/anaconda3/lib/python3.12/site-packages/pandas/core/indexes/base.py:3805\u001b[0m, in \u001b[0;36mIndex.get_loc\u001b[0;34m(self, key)\u001b[0m\n\u001b[1;32m   3804\u001b[0m \u001b[38;5;28;01mtry\u001b[39;00m:\n\u001b[0;32m-> 3805\u001b[0m     \u001b[38;5;28;01mreturn\u001b[39;00m \u001b[38;5;28mself\u001b[39m\u001b[38;5;241m.\u001b[39m_engine\u001b[38;5;241m.\u001b[39mget_loc(casted_key)\n\u001b[1;32m   3806\u001b[0m \u001b[38;5;28;01mexcept\u001b[39;00m \u001b[38;5;167;01mKeyError\u001b[39;00m \u001b[38;5;28;01mas\u001b[39;00m err:\n",
      "File \u001b[0;32mindex.pyx:167\u001b[0m, in \u001b[0;36mpandas._libs.index.IndexEngine.get_loc\u001b[0;34m()\u001b[0m\n",
      "File \u001b[0;32mindex.pyx:196\u001b[0m, in \u001b[0;36mpandas._libs.index.IndexEngine.get_loc\u001b[0;34m()\u001b[0m\n",
      "File \u001b[0;32mpandas/_libs/hashtable_class_helper.pxi:7081\u001b[0m, in \u001b[0;36mpandas._libs.hashtable.PyObjectHashTable.get_item\u001b[0;34m()\u001b[0m\n",
      "File \u001b[0;32mpandas/_libs/hashtable_class_helper.pxi:7089\u001b[0m, in \u001b[0;36mpandas._libs.hashtable.PyObjectHashTable.get_item\u001b[0;34m()\u001b[0m\n",
      "\u001b[0;31mKeyError\u001b[0m: 'Date'",
      "\nThe above exception was the direct cause of the following exception:\n",
      "\u001b[0;31mKeyError\u001b[0m                                  Traceback (most recent call last)",
      "Cell \u001b[0;32mIn[27], line 17\u001b[0m\n\u001b[1;32m     14\u001b[0m tsx_data \u001b[38;5;241m=\u001b[39m pd\u001b[38;5;241m.\u001b[39mread_csv(\u001b[38;5;124m\"\u001b[39m\u001b[38;5;124mTSX_data_yfinance.csv\u001b[39m\u001b[38;5;124m\"\u001b[39m)\n\u001b[1;32m     16\u001b[0m \u001b[38;5;66;03m# Ensure the 'Date' column is in datetime format\u001b[39;00m\n\u001b[0;32m---> 17\u001b[0m tsx_data[\u001b[38;5;124m'\u001b[39m\u001b[38;5;124mDate\u001b[39m\u001b[38;5;124m'\u001b[39m] \u001b[38;5;241m=\u001b[39m pd\u001b[38;5;241m.\u001b[39mto_datetime(tsx_data[\u001b[38;5;124m'\u001b[39m\u001b[38;5;124mDate\u001b[39m\u001b[38;5;124m'\u001b[39m])\n\u001b[1;32m     19\u001b[0m \u001b[38;5;66;03m# Set the 'Date' column as the index\u001b[39;00m\n\u001b[1;32m     20\u001b[0m tsx_data\u001b[38;5;241m.\u001b[39mset_index(\u001b[38;5;124m'\u001b[39m\u001b[38;5;124mDate\u001b[39m\u001b[38;5;124m'\u001b[39m, inplace\u001b[38;5;241m=\u001b[39m\u001b[38;5;28;01mTrue\u001b[39;00m)\n",
      "File \u001b[0;32m/opt/anaconda3/lib/python3.12/site-packages/pandas/core/frame.py:4102\u001b[0m, in \u001b[0;36mDataFrame.__getitem__\u001b[0;34m(self, key)\u001b[0m\n\u001b[1;32m   4100\u001b[0m \u001b[38;5;28;01mif\u001b[39;00m \u001b[38;5;28mself\u001b[39m\u001b[38;5;241m.\u001b[39mcolumns\u001b[38;5;241m.\u001b[39mnlevels \u001b[38;5;241m>\u001b[39m \u001b[38;5;241m1\u001b[39m:\n\u001b[1;32m   4101\u001b[0m     \u001b[38;5;28;01mreturn\u001b[39;00m \u001b[38;5;28mself\u001b[39m\u001b[38;5;241m.\u001b[39m_getitem_multilevel(key)\n\u001b[0;32m-> 4102\u001b[0m indexer \u001b[38;5;241m=\u001b[39m \u001b[38;5;28mself\u001b[39m\u001b[38;5;241m.\u001b[39mcolumns\u001b[38;5;241m.\u001b[39mget_loc(key)\n\u001b[1;32m   4103\u001b[0m \u001b[38;5;28;01mif\u001b[39;00m is_integer(indexer):\n\u001b[1;32m   4104\u001b[0m     indexer \u001b[38;5;241m=\u001b[39m [indexer]\n",
      "File \u001b[0;32m/opt/anaconda3/lib/python3.12/site-packages/pandas/core/indexes/base.py:3812\u001b[0m, in \u001b[0;36mIndex.get_loc\u001b[0;34m(self, key)\u001b[0m\n\u001b[1;32m   3807\u001b[0m     \u001b[38;5;28;01mif\u001b[39;00m \u001b[38;5;28misinstance\u001b[39m(casted_key, \u001b[38;5;28mslice\u001b[39m) \u001b[38;5;129;01mor\u001b[39;00m (\n\u001b[1;32m   3808\u001b[0m         \u001b[38;5;28misinstance\u001b[39m(casted_key, abc\u001b[38;5;241m.\u001b[39mIterable)\n\u001b[1;32m   3809\u001b[0m         \u001b[38;5;129;01mand\u001b[39;00m \u001b[38;5;28many\u001b[39m(\u001b[38;5;28misinstance\u001b[39m(x, \u001b[38;5;28mslice\u001b[39m) \u001b[38;5;28;01mfor\u001b[39;00m x \u001b[38;5;129;01min\u001b[39;00m casted_key)\n\u001b[1;32m   3810\u001b[0m     ):\n\u001b[1;32m   3811\u001b[0m         \u001b[38;5;28;01mraise\u001b[39;00m InvalidIndexError(key)\n\u001b[0;32m-> 3812\u001b[0m     \u001b[38;5;28;01mraise\u001b[39;00m \u001b[38;5;167;01mKeyError\u001b[39;00m(key) \u001b[38;5;28;01mfrom\u001b[39;00m \u001b[38;5;21;01merr\u001b[39;00m\n\u001b[1;32m   3813\u001b[0m \u001b[38;5;28;01mexcept\u001b[39;00m \u001b[38;5;167;01mTypeError\u001b[39;00m:\n\u001b[1;32m   3814\u001b[0m     \u001b[38;5;66;03m# If we have a listlike key, _check_indexing_error will raise\u001b[39;00m\n\u001b[1;32m   3815\u001b[0m     \u001b[38;5;66;03m#  InvalidIndexError. Otherwise we fall through and re-raise\u001b[39;00m\n\u001b[1;32m   3816\u001b[0m     \u001b[38;5;66;03m#  the TypeError.\u001b[39;00m\n\u001b[1;32m   3817\u001b[0m     \u001b[38;5;28mself\u001b[39m\u001b[38;5;241m.\u001b[39m_check_indexing_error(key)\n",
      "\u001b[0;31mKeyError\u001b[0m: 'Date'"
     ]
    }
   ],
   "source": [
    "import requests\n",
    "import pandas as pd\n",
    "import yfinance as yf\n",
    "\n",
    "# Define the ticker for TTEN\n",
    "ticker = \"TSX\"  # .TO is the suffix for TSX tickers\n",
    "# Fetch data from 2017 to 2024\n",
    "data = yf.download(ticker, start=\"2017-01-01\", end=\"2024-12-31\")\n",
    "# Save data to CSV\n",
    "data.to_csv(\"TSX_data_yfinance.csv\")\n",
    "print(\"TSX data has been successfully saved to 'TTEN_data_yfinance.csv'.\")\n",
    "\n",
    "# Load the saved data\n",
    "tsx_data = pd.read_csv(\"TSX_data_yfinance.csv\")\n",
    "\n",
    "# Ensure the 'Date' column is in datetime format\n",
    "tsx_data['Date'] = pd.to_datetime(tsx_data['Date'])\n",
    "\n",
    "# Set the 'Date' column as the index\n",
    "tsx_data.set_index('Date', inplace=True)\n",
    "\n",
    "# Resample the data to quarterly frequency and calculate the mean for each quarter\n",
    "quarterly_data = tsx_data.resample('Q').mean()\n",
    "\n",
    "# Reset the index for easier handling\n",
    "quarterly_data.reset_index(inplace=True)\n",
    "\n",
    "# Display the quarterly data\n",
    "print(quarterly_data.head())\n",
    "\n",
    "# Save the quarterly data to a CSV file\n",
    "quarterly_data.to_csv(\"TSX_quarterly_data.csv\", index=False)\n",
    "print(\"Quarterly TSX data has been saved to 'TSX_quarterly_data.csv'.\")\n",
    "\n",
    "# URL to fetch GDP data\n",
    "url = \"https://www.bankofcanada.ca/valet/observations/V41690973/json\"\n",
    "\n",
    "# Make the GET request\n",
    "response = requests.get(url)\n",
    "\n",
    "# Check if the request was successful\n",
    "if response.status_code == 200:\n",
    "    # Parse the JSON data\n",
    "    data = response.json()\n",
    "    \n",
    "    # Extract observations (GDP data)\n",
    "    observations = data.get('observations', [])\n",
    "    \n",
    "    # Convert the data into a Pandas DataFrame\n",
    "    gdp_data = pd.DataFrame(observations)\n",
    "    \n",
    "    # Check if 'observations' data exists\n",
    "    if not gdp_data.empty:\n",
    "        # Extract relevant fields: date and GDP value\n",
    "        gdp_data['date'] = pd.to_datetime(gdp_data['d'])  # Convert 'd' to datetime\n",
    "        gdp_data['GDP'] = gdp_data['V41690973'].apply(lambda x: float(x['v']) if 'v' in x else None)  # Extract 'v' safely\n",
    "        \n",
    "        # Drop rows with missing GDP values\n",
    "        gdp_data.dropna(subset=['GDP'], inplace=True)\n",
    "        \n",
    "        # Keep only relevant columns\n",
    "        gdp_data = gdp_data[['date', 'GDP']]\n",
    "        \n",
    "        # Filter data for 2019 onwards\n",
    "        gdp_data = gdp_data[gdp_data['date'] >= '2019-01-01']\n",
    "        \n",
    "        # Resample to quarterly frequency by averaging monthly values\n",
    "        quarterly_gdp = gdp_data.resample('Q', on='date').mean().reset_index()\n",
    "        # Save the quarterly data to a CSV file\n",
    "        output_file = \"quarterly_gdp_data.csv\"\n",
    "        quarterly_gdp.to_csv(output_file, index=False)\n",
    "        print(f\"Quarterly GDP data has been saved to {output_file}\")\n",
    "    else:\n",
    "        print(\"No observations found in the data.\")\n",
    "else:\n",
    "    print(f\"Failed to fetch data. HTTP Status Code: {response.status_code}\")"
   ]
  },
  {
   "cell_type": "markdown",
   "metadata": {},
   "source": [
    "What correlations can be identified between the performance of the TSX and the available\n",
    "macroeconomic indicators?"
   ]
  },
  {
   "cell_type": "code",
   "execution_count": 28,
   "metadata": {},
   "outputs": [
    {
     "data": {
      "image/png": "[encoded data removed]",
      "text/plain": [
       "<Figure size 1000x600 with 1 Axes>"
      ]
     },
     "metadata": {},
     "output_type": "display_data"
    }
   ],
   "source": [
    "import pandas as pd\n",
    "import matplotlib.pyplot as plt\n",
    "import numpy as np\n",
    "from scipy import stats\n",
    "\n",
    "# Read data\n",
    "tsx_data = pd.read_csv('TSX_quarterly_data_2017_2024.csv')\n",
    "gdp_data = pd.read_csv('quarterly_gdp_data.csv')\n",
    "\n",
    "# Convert data types\n",
    "tsx_data['Adj Close'] = pd.to_numeric(tsx_data['Adj Close'], errors='coerce')\n",
    "gdp_data['GDP'] = pd.to_numeric(gdp_data['GDP'], errors='coerce')\n",
    "\n",
    "# Convert dates\n",
    "tsx_data['Quarter'] = pd.to_datetime(tsx_data['Quarter'])\n",
    "gdp_data['date'] = pd.to_datetime(gdp_data['date'])\n",
    "\n",
    "# Merge datasets\n",
    "merged_data = pd.merge(tsx_data, gdp_data, left_on='Quarter', right_on='date')\n",
    "\n",
    "# Remove any NaN values\n",
    "merged_data = merged_data.dropna(subset=['Adj Close', 'GDP'])\n",
    "\n",
    "# Calculate correlation\n",
    "correlation = stats.pearsonr(merged_data['Adj Close'], merged_data['GDP'])[0]\n",
    "\n",
    "# Create scatter plot\n",
    "plt.figure(figsize=(10, 6))\n",
    "plt.scatter(merged_data['GDP'], merged_data['Adj Close'], alpha=0.5)\n",
    "plt.xlabel('GDP')\n",
    "plt.ylabel('TSX Index')\n",
    "plt.title(f'TSX Index vs Inflation Correlation: {correlation:.2f}')\n",
    "\n",
    "# Add trend line\n",
    "z = np.polyfit(merged_data['GDP'], merged_data['Adj Close'], 1)\n",
    "p = np.poly1d(z)\n",
    "plt.plot(merged_data['GDP'], p(merged_data['GDP']), \"r--\", alpha=0.8)\n",
    "\n",
    "plt.grid(True, alpha=0.3)\n",
    "plt.tight_layout()\n",
    "plt.show()"
   ]
  },
  {
   "cell_type": "code",
   "execution_count": 30,
   "metadata": {},
   "outputs": [
    {
     "name": "stderr",
     "output_type": "stream",
     "text": [
      "[*********************100%***********************]  1 of 1 completed\n",
      "\n",
      "1 Failed download:\n",
      "['CADUSD=X']: YFPricesMissingError('$%ticker%: possibly delisted; no price data found  (30d 2020-01-01 -> 2025-01-01) (Yahoo error = \"Invalid input - interval=30d is not supported. Valid intervals: [1m, 2m, 5m, 15m, 30m, 60m, 90m, 1h, 1d, 5d, 1wk, 1mo, 3mo]\")')\n"
     ]
    },
    {
     "name": "stdout",
     "output_type": "stream",
     "text": [
      "Historical data for CADUSD=X saved to CAD_to_USD_Historical_Data.csv\n"
     ]
    }
   ],
   "source": [
    "import yfinance as yf\n",
    "\n",
    "# Define the ticker symbol for CAD to USD\n",
    "ticker = \"CADUSD=X\"\n",
    "\n",
    "# Download historical data\n",
    "data = yf.download(ticker, start=\"2020-01-01\", end=\"2025-01-01\", interval=\"30d\")\n",
    "\n",
    "# Save the data to a CSV file\n",
    "csv_file = \"CAD_to_USD_Historical_Data.csv\"\n",
    "data.to_csv(csv_file)\n",
    "\n",
    "print(f\"Historical data for {ticker} saved to {csv_file}\")"
   ]
  },
  {
   "cell_type": "code",
   "execution_count": 31,
   "metadata": {},
   "outputs": [
    {
     "name": "stderr",
     "output_type": "stream",
     "text": [
      "[*********************100%***********************]  1 of 1 completed"
     ]
    },
    {
     "name": "stdout",
     "output_type": "stream",
     "text": [
      "Historical CAD/USD data saved as CADUSD_Historical_Monthly.csv\n"
     ]
    },
    {
     "name": "stderr",
     "output_type": "stream",
     "text": [
      "\n"
     ]
    }
   ],
   "source": [
    "import yfinance as yf\n",
    "\n",
    "# Define the ticker for CAD/USD\n",
    "ticker = \"CADUSD=X\"\n",
    "\n",
    "# Fetch the historical data (monthly frequency)\n",
    "data = yf.download(ticker, start=\"2020-01-01\", end=\"2025-01-01\", interval=\"1mo\")\n",
    "\n",
    "# Save to a CSV file\n",
    "file_name = \"CADUSD_Historical_Monthly.csv\"\n",
    "data.to_csv(file_name)\n",
    "\n",
    "print(f\"Historical CAD/USD data saved as {file_name}\")"
   ]
  },
  {
   "cell_type": "code",
   "execution_count": 36,
   "metadata": {},
   "outputs": [
    {
     "name": "stdout",
     "output_type": "stream",
     "text": [
      "HTTP Status Code: 200\n",
      "Response Content: <html><head><title>Request Rejected</title></head><body>The requested URL was rejected. Please consult with your administrator.<br><br>Your support ID is: 2217873502778720857</body></html>\n",
      "Error parsing JSON: Expecting value: line 1 column 1 (char 0)\n"
     ]
    }
   ],
   "source": [
    "import requests\n",
    "import pandas as pd\n",
    "\n",
    "# Define the IMF API endpoint and parameters\n",
    "url = \"https://www.imf.org/external/datamapper/NGDP_RPCH@WEO/CAN?year=2025\"\n",
    "parameters = {\n",
    "    \"periods\": \"2020,2021,2022,2023,2024\",  # Specify the years\n",
    "    \"countries\": \"CAN\",  # Canada\n",
    "}\n",
    "\n",
    "# Make the GET request to the API\n",
    "response = requests.get(url, params=parameters)\n",
    "\n",
    "# Debug: Print the status code and content of the response\n",
    "print(f\"HTTP Status Code: {response.status_code}\")\n",
    "print(f\"Response Content: {response.text}\")\n",
    "\n",
    "# Check if the request was successful\n",
    "if response.status_code == 200:\n",
    "    try:\n",
    "        # Parse the JSON response\n",
    "        data = response.json()\n",
    "        \n",
    "        # Extract GDP data\n",
    "        gdp_data = data.get(\"series\", {}).get(\"CAN\", {}).get(\"values\", {})\n",
    "        \n",
    "        # Convert the GDP data into a DataFrame\n",
    "        df = pd.DataFrame(list(gdp_data.items()), columns=[\"Year\", \"GDP Growth (%)\"])\n",
    "        df = df.sort_values(\"Year\")  # Sort by year\n",
    "\n",
    "        # Save the DataFrame to a CSV file\n",
    "        file_name = \"Canada_GDP_2020_2024.csv\"\n",
    "        df.to_csv(file_name, index=False)\n",
    "        print(f\"GDP data saved as {file_name}\")\n",
    "    except Exception as e:\n",
    "        print(f\"Error parsing JSON: {e}\")\n",
    "else:\n",
    "    print(f\"Failed to fetch data. HTTP Status Code: {response.status_code}\")"
   ]
  },
  {
   "cell_type": "code",
   "execution_count": 1,
   "metadata": {},
   "outputs": [
    {
     "name": "stdout",
     "output_type": "stream",
     "text": [
      "Requirement already satisfied: xlrd in /opt/anaconda3/lib/python3.12/site-packages (2.0.1)\n",
      "Note: you may need to restart the kernel to use updated packages.\n"
     ]
    }
   ],
   "source": [
    "pip install xlrd"
   ]
  },
  {
   "cell_type": "code",
   "execution_count": 2,
   "metadata": {},
   "outputs": [
    {
     "name": "stdout",
     "output_type": "stream",
     "text": [
      "File converted to CSV and saved as imf-dm-export-20250106.csv\n"
     ]
    }
   ],
   "source": [
    "import pandas as pd\n",
    "\n",
    "# File paths\n",
    "input_file = \"imf-dm-export-20250106.xls\"  # Replace with your Excel file path\n",
    "output_file = \"imf-dm-export-20250106.csv\"  # Desired CSV file path\n",
    "\n",
    "# Read the Excel file\n",
    "df = pd.read_excel(input_file)\n",
    "\n",
    "# Save the DataFrame as a CSV\n",
    "df.to_csv(output_file, index=False)\n",
    "\n",
    "print(f\"File converted to CSV and saved as {output_file}\")"
   ]
  }
 ],
 "metadata": {
  "kernelspec": {
   "display_name": "base",
   "language": "python",
   "name": "python3"
  },
  "language_info": {
   "codemirror_mode": {
    "name": "ipython",
    "version": 3
   },
   "file_extension": ".py",
   "mimetype": "text/x-python",
   "name": "python",
   "nbconvert_exporter": "python",
   "pygments_lexer": "ipython3",
   "version": "3.12.4"
  }
 },
 "nbformat": 4,
 "nbformat_minor": 2
}
