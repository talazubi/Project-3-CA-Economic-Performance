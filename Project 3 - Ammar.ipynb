{
 "cells": [
  {
   "cell_type": "code",
   "execution_count": 2,
   "metadata": {},
   "outputs": [],
   "source": [
    "import pandas as pd\n",
    "import matplotlib.pyplot as plt\n",
    "import requests\n",
    "import seaborn as sns\n",
    "import sqlite3"
   ]
  },
  {
   "cell_type": "code",
   "execution_count": 25,
   "metadata": {},
   "outputs": [],
   "source": [
    "#Alphavantage URL is defined below to use the Alphavantage API for data collection\n",
    "api_key = \"M0H1JZNA6VMOG30H\"\n",
    "alphavantage_url = \"https://www.alphavantage.co/query?\"\n",
    "\n",
    "# Bank of Canada API URL is set-up for fetching inflation data\n",
    "inlflation_url = \"https://www.bankofcanada.ca/valet/observations/V41690914/json\"\n",
    "response_inflation = requests.get(inlflation_url)"
   ]
  },
  {
   "cell_type": "code",
   "execution_count": 32,
   "metadata": {},
   "outputs": [],
   "source": [
    "# Since data was insufficiently available on Yahoo Finance, iShares ETF data for the index has been pulled from Alphavantage instead\n",
    "url_tsx = (f\"{alphavantage_url}function=TIME_SERIES_DAILY&symbol=XIU.TO&outputsize=full&extended_hours=false&apikey={api_key}&datatype=csv\")\n",
    "url_ttfs = (f\"{alphavantage_url}function=TIME_SERIES_DAILY&symbol=XFN.TO&outputsize=full&extended_hours=false&apikey={api_key}&datatype=csv\")\n",
    "url_tten = (f\"{alphavantage_url}function=TIME_SERIES_DAILY&symbol=XEG.TO&outputsize=full&extended_hours=false&apikey={api_key}&datatype=csv\")\n",
    "url_ttin = (f\"{alphavantage_url}function=TIME_SERIES_DAILY&symbol=ZIN.TO&outputsize=full&extended_hours=false&apikey={api_key}&datatype=csv\")\n",
    "url_ttma = (f\"{alphavantage_url}function=TIME_SERIES_DAILY&symbol=XMA.TO&outputsize=full&extended_hours=false&apikey={api_key}&datatype=csv\")\n",
    "url_ttit = (f\"{alphavantage_url}function=TIME_SERIES_DAILY&symbol=XIT.TO&outputsize=full&extended_hours=false&apikey={api_key}&datatype=csv\")"
   ]
  },
  {
   "cell_type": "code",
   "execution_count": 33,
   "metadata": {},
   "outputs": [],
   "source": [
    "# The read_csv function is used to read the data via the APIs above, the data is converted to dataframes and varaibles relative to the sectors are defined below.\n",
    "df_tsx = pd.read_csv(url_tsx)\n",
    "df_financial = pd.read_csv(url_ttfs)\n",
    "df_energy = pd.read_csv(url_tten)\n",
    "df_industrials = pd.read_csv(url_ttin)\n",
    "df_materials = pd.read_csv(url_ttma)\n",
    "df_technology = pd.read_csv(url_ttit)"
   ]
  },
  {
   "cell_type": "code",
   "execution_count": 29,
   "metadata": {},
   "outputs": [],
   "source": [
    "# Data is saved to CSVs for analysis\n",
    "df_tsx.to_csv(\"TSX.csv\")\n",
    "df_financial.to_csv(\"Financial Sector.csv\")\n",
    "df_energy.to_csv(\"Energy Sector.csv\")\n",
    "df_industrials.to_csv(\"Industrials Sector.csv\")\n",
    "df_materials.to_csv(\"Materials Sector.csv\")\n",
    "df_technology.to_csv(\"IT Sector.csv\")"
   ]
  },
  {
   "cell_type": "code",
   "execution_count": 34,
   "metadata": {},
   "outputs": [],
   "source": [
    "# Timestamp column in csv files is converted to datetime format, to help clean the data\n",
    "df_tsx['timestamp'] = pd.to_datetime(df_tsx['timestamp'])\n",
    "df_financial['timestamp'] = pd.to_datetime(df_financial['timestamp'])\n",
    "df_energy['timestamp'] = pd.to_datetime(df_energy['timestamp'])\n",
    "df_industrials['timestamp'] = pd.to_datetime(df_industrials['timestamp'])\n",
    "df_materials['timestamp'] = pd.to_datetime(df_materials['timestamp'])\n",
    "df_technology['timestamp'] = pd.to_datetime(df_technology['timestamp'])\n",
    "\n",
    "# Data is cleaned as per the time period of the analysis by defining the start and end dates below\n",
    "start_date = '2020-01-01'\n",
    "end_date = '2024-12-31'\n",
    "\n",
    "# The dataFrame is filtered for the above specified date range\n",
    "clean_df_tsx = df_tsx[(df_tsx['timestamp'] >= start_date) & (df_tsx['timestamp'] <= end_date)]\n",
    "clean_df_financial = df_financial[(df_financial['timestamp'] >= start_date) & (df_financial['timestamp'] <= end_date)]\n",
    "clean_df_energy = df_energy[(df_energy['timestamp'] >= start_date) & (df_energy['timestamp'] <= end_date)]\n",
    "clean_df_industrials = df_industrials[(df_industrials['timestamp'] >= start_date) & (df_industrials['timestamp'] <= end_date)]\n",
    "clean_df_materials = df_materials[(df_materials['timestamp'] >= start_date) & (df_materials['timestamp'] <= end_date)]\n",
    "clean_df_technology = df_technology[(df_technology['timestamp'] >= start_date) & (df_technology['timestamp'] <= end_date)]\n"
   ]
  },
  {
   "cell_type": "code",
   "execution_count": 12,
   "metadata": {},
   "outputs": [],
   "source": [
    "# The cleaned data is now saved to CSVs\n",
    "clean_df_tsx.to_csv(\"TSX.csv\")\n",
    "clean_df_financial.to_csv(\"Financial Sector.csv\")\n",
    "clean_df_energy.to_csv(\"Energy Sector.csv\")\n",
    "clean_df_industrials.to_csv(\"Industrials Sector.csv\")\n",
    "clean_df_materials.to_csv(\"Materials Sector.csv\")\n",
    "clean_df_technology.to_csv(\"IT Sector.csv\")"
   ]
  },
  {
   "cell_type": "code",
   "execution_count": 35,
   "metadata": {},
   "outputs": [],
   "source": [
    "# Inflation data is sourced via the Bank of Canada API set up earlier\n",
    "data = response_inflation.json()\n",
    "\n",
    "# Extract observations (GDP data)\n",
    "observations = data['observations']\n",
    "\n",
    "cpi_data = pd.DataFrame(observations)\n",
    "\n",
    "# Extract relevant fields: date and CPI value\n",
    "cpi_data['date'] = pd.to_datetime(cpi_data['d'])  # Convert 'd' to datetime - d column stores the relevant dates for the required data\n",
    "cpi_data['CPI'] = cpi_data['V41690914'].apply(lambda x: x['v']).astype(float)  # Extract 'v' from 'V41690914', as this column stores the cpi data\n",
    "\n",
    "# Keep only relevant columns\n",
    "cpi_data = cpi_data[['date', 'CPI']]\n",
    "\n",
    "# Filter data for 2019 onwards\n",
    "cpi_data = cpi_data[cpi_data['date'] >= '1999-01-01']\n",
    "\n",
    "# The pct_change(12) function is used on the monthly CPI data, to compound it over 12 months and obtain the annualized infaltion \n",
    "cpi_data['Inflation Rate (%)'] = cpi_data['CPI'].pct_change(12) * 100\n",
    "\n",
    "cpi_data.to_csv(\"canadian_inflation.csv\")"
   ]
  },
  {
   "cell_type": "code",
   "execution_count": 3,
   "metadata": {},
   "outputs": [],
   "source": [
    "conn = sqlite3.connect(\"tsx_analysis.db\")\n",
    "cursor = conn.cursor()"
   ]
  },
  {
   "cell_type": "code",
   "execution_count": 3,
   "metadata": {},
   "outputs": [
    {
     "data": {
      "text/plain": [
       "<sqlite3.Cursor at 0x181d1c4da40>"
      ]
     },
     "execution_count": 3,
     "metadata": {},
     "output_type": "execute_result"
    }
   ],
   "source": [
    "cursor.execute(\"\"\"\n",
    "CREATE TABLE IF NOT EXISTS tsx_daily (\n",
    "    date TEXT PRIMARY KEY,\n",
    "    open REAL,\n",
    "    high REAL,\n",
    "    low REAL,\n",
    "    close REAL,\n",
    "    volume INTEGER\n",
    ")\n",
    "\"\"\")"
   ]
  },
  {
   "cell_type": "code",
   "execution_count": 10,
   "metadata": {},
   "outputs": [],
   "source": [
    "# Reading the TSX data saved earlier for further analysis\n",
    "\n",
    "tsx_data = pd.read_csv(\"Resources\\Alphavantage\\TSX.csv\")\n",
    "energy_sector = pd.read_csv(\"Resources\\Alphavantage\\Energy Sector.csv\")\n",
    "financial_sector = pd.read_csv(\"Resources\\Alphavantage\\Financial Sector.csv\")\n",
    "industrial_sector = pd.read_csv(\"Resources\\Alphavantage\\Industrials Sector.csv\")\n",
    "IT_sector = pd.read_csv(\"Resources\\Alphavantage\\IT Sector.csv\")\n",
    "materials_sector = pd.read_csv(\"Resources\\Alphavantage\\Materials Sector.csv\")\n"
   ]
  },
  {
   "cell_type": "code",
   "execution_count": 4,
   "metadata": {},
   "outputs": [],
   "source": [
    "# Reading the macroeconomic data collected earlier\n",
    "fx_data = pd.read_csv(\"Resources\\CADUSD_Historical_Monthly.csv\")\n",
    "inflation_data = pd.read_csv(\"Resources\\Bank of Canada\\canadian_inflation_annualized.csv\")\n"
   ]
  },
  {
   "cell_type": "code",
   "execution_count": 37,
   "metadata": {},
   "outputs": [
    {
     "data": {
      "text/plain": [
       "1250"
      ]
     },
     "execution_count": 37,
     "metadata": {},
     "output_type": "execute_result"
    }
   ],
   "source": [
    "# Loading the data to SQLite table\n",
    "tsx_data.to_sql(\"tsx_daily\", conn, if_exists=\"replace\", index=False)\n",
    "energy_sector.to_sql(\"energy_sector\", conn, if_exists=\"replace\", index=False)\n",
    "financial_sector.to_sql(\"financial_sector\", conn, if_exists=\"replace\", index=False)\n",
    "industrial_sector.to_sql(\"industrial_sector\", conn, if_exists=\"replace\", index=False)\n",
    "IT_sector.to_sql(\"IT_sector\", conn, if_exists=\"replace\", index=False)\n",
    "materials_sector.to_sql(\"materials_sector\", conn, if_exists=\"replace\", index=False)\n"
   ]
  },
  {
   "cell_type": "code",
   "execution_count": 6,
   "metadata": {},
   "outputs": [
    {
     "data": {
      "text/plain": [
       "71"
      ]
     },
     "execution_count": 6,
     "metadata": {},
     "output_type": "execute_result"
    }
   ],
   "source": [
    "fx_data.to_sql(\"fx_data\", conn, if_exists=\"replace\", index=False)\n",
    "inflation_data.to_sql(\"CPI_Inflation\", conn, if_exists=\"replace\", index=False)\n"
   ]
  },
  {
   "cell_type": "code",
   "execution_count": 18,
   "metadata": {},
   "outputs": [],
   "source": [
    "inflation_data.rename(columns={'date': 'timestamp'}, inplace=True)"
   ]
  },
  {
   "cell_type": "code",
   "execution_count": 13,
   "metadata": {},
   "outputs": [
    {
     "ename": "NameError",
     "evalue": "name 'tsx_data' is not defined",
     "output_type": "error",
     "traceback": [
      "\u001b[1;31m---------------------------------------------------------------------------\u001b[0m",
      "\u001b[1;31mNameError\u001b[0m                                 Traceback (most recent call last)",
      "Cell \u001b[1;32mIn[13], line 2\u001b[0m\n\u001b[0;32m      1\u001b[0m \u001b[38;5;66;03m# The timestamp column is defined as datetime\u001b[39;00m\n\u001b[1;32m----> 2\u001b[0m tsx_data[\u001b[38;5;124m'\u001b[39m\u001b[38;5;124mtimestamp\u001b[39m\u001b[38;5;124m'\u001b[39m] \u001b[38;5;241m=\u001b[39m pd\u001b[38;5;241m.\u001b[39mto_datetime(\u001b[43mtsx_data\u001b[49m[\u001b[38;5;124m'\u001b[39m\u001b[38;5;124mtimestamp\u001b[39m\u001b[38;5;124m'\u001b[39m])\n\u001b[0;32m      3\u001b[0m energy_sector[\u001b[38;5;124m'\u001b[39m\u001b[38;5;124mtimestamp\u001b[39m\u001b[38;5;124m'\u001b[39m] \u001b[38;5;241m=\u001b[39m pd\u001b[38;5;241m.\u001b[39mto_datetime(energy_sector[\u001b[38;5;124m'\u001b[39m\u001b[38;5;124mtimestamp\u001b[39m\u001b[38;5;124m'\u001b[39m])\n\u001b[0;32m      4\u001b[0m financial_sector[\u001b[38;5;124m'\u001b[39m\u001b[38;5;124mtimestamp\u001b[39m\u001b[38;5;124m'\u001b[39m] \u001b[38;5;241m=\u001b[39m pd\u001b[38;5;241m.\u001b[39mto_datetime(financial_sector[\u001b[38;5;124m'\u001b[39m\u001b[38;5;124mtimestamp\u001b[39m\u001b[38;5;124m'\u001b[39m])\n",
      "\u001b[1;31mNameError\u001b[0m: name 'tsx_data' is not defined"
     ]
    }
   ],
   "source": [
    "# The timestamp column is defined as datetime\n",
    "tsx_data['timestamp'] = pd.to_datetime(tsx_data['timestamp'])\n",
    "energy_sector['timestamp'] = pd.to_datetime(energy_sector['timestamp'])\n",
    "financial_sector['timestamp'] = pd.to_datetime(financial_sector['timestamp'])\n",
    "industrial_sector['timestamp'] = pd.to_datetime(industrial_sector['timestamp'])\n",
    "IT_sector['timestamp'] = pd.to_datetime(IT_sector['timestamp'])\n",
    "materials_sector['timestamp'] = pd.to_datetime(materials_sector['timestamp'])"
   ]
  },
  {
   "cell_type": "code",
   "execution_count": 19,
   "metadata": {},
   "outputs": [],
   "source": [
    "# Similarly to TSX data earlier, macroeconomic data timestamp is also coverted to Datetime format\n",
    "\n",
    "inflation_data['timestamp'] = pd.to_datetime(inflation_data['timestamp'])\n",
    "fx_data['timestamp'] = pd.to_datetime(fx_data['timestamp'])"
   ]
  },
  {
   "cell_type": "code",
   "execution_count": 46,
   "metadata": {},
   "outputs": [],
   "source": [
    "# Data is cleaned to remove blank columns\n",
    "\n",
    "for df in [tsx_data, energy_sector, financial_sector, industrial_sector, IT_sector, materials_sector]:\n",
    "    if 'Unnamed: 0' in df.columns:\n",
    "        df.drop(columns=['Unnamed: 0'], inplace=True)"
   ]
  },
  {
   "cell_type": "code",
   "execution_count": 48,
   "metadata": {},
   "outputs": [
    {
     "data": {
      "text/plain": [
       "1250"
      ]
     },
     "execution_count": 48,
     "metadata": {},
     "output_type": "execute_result"
    }
   ],
   "source": [
    "# The cleaned data is updated to SQLite\n",
    "\n",
    "tsx_data.to_sql(\"tsx_daily\", conn, if_exists=\"replace\", index=False)\n",
    "energy_sector.to_sql(\"energy_sector\", conn, if_exists=\"replace\", index=False)\n",
    "financial_sector.to_sql(\"financial_sector\", conn, if_exists=\"replace\", index=False)\n",
    "industrial_sector.to_sql(\"industrial_sector\", conn, if_exists=\"replace\", index=False)\n",
    "IT_sector.to_sql(\"IT_sector\", conn, if_exists=\"replace\", index=False)\n",
    "materials_sector.to_sql(\"materials_sector\", conn, if_exists=\"replace\", index=False)"
   ]
  },
  {
   "cell_type": "code",
   "execution_count": 16,
   "metadata": {},
   "outputs": [
    {
     "name": "stdout",
     "output_type": "stream",
     "text": [
      "             timestamp   open   high    low  close    volume\n",
      "0  2024-12-20 00:00:00  36.75  37.45  36.73  37.26  31832200\n",
      "1  2024-12-19 00:00:00  37.34  37.36  36.98  37.00   4927900\n",
      "2  2024-12-18 00:00:00  38.05  38.07  37.16  37.23   5660300\n",
      "3  2024-12-17 00:00:00  37.99  38.11  37.92  38.09   3031700\n",
      "4  2024-12-16 00:00:00  38.27  38.27  38.08  38.10   1723400\n"
     ]
    }
   ],
   "source": [
    "tsx_query = pd.read_sql(\"SELECT * FROM tsx_daily LIMIT 5;\", conn)\n",
    "print(tsx_query)"
   ]
  },
  {
   "cell_type": "code",
   "execution_count": 20,
   "metadata": {},
   "outputs": [
    {
     "name": "stdout",
     "output_type": "stream",
     "text": [
      "[('tsx_daily',), ('energy_sector',), ('financial_sector',), ('industrial_sector',), ('IT_sector',), ('materials_sector',), ('fx_data',), ('CPI_Inflation',)]\n"
     ]
    }
   ],
   "source": [
    "cursor.execute(\"SELECT name FROM sqlite_master WHERE type='table';\")\n",
    "print(cursor.fetchall())\n"
   ]
  },
  {
   "cell_type": "code",
   "execution_count": null,
   "metadata": {},
   "outputs": [],
   "source": []
  }
 ],
 "metadata": {
  "kernelspec": {
   "display_name": "dev",
   "language": "python",
   "name": "python3"
  },
  "language_info": {
   "codemirror_mode": {
    "name": "ipython",
    "version": 3
   },
   "file_extension": ".py",
   "mimetype": "text/x-python",
   "name": "python",
   "nbconvert_exporter": "python",
   "pygments_lexer": "ipython3",
   "version": "3.10.14"
  }
 },
 "nbformat": 4,
 "nbformat_minor": 2
}
